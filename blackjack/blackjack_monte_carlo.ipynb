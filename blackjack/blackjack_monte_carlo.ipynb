{
 "cells": [
  {
   "cell_type": "code",
   "execution_count": 6,
   "metadata": {},
   "outputs": [],
   "source": [
    "import gymnasium as gym\n",
    "from tqdm import tqdm\n",
    "import numpy as np"
   ]
  },
  {
   "cell_type": "code",
   "execution_count": 81,
   "metadata": {},
   "outputs": [],
   "source": [
    "class BlackJackAgent:\n",
    "\n",
    "    def __init__(self,env,num_iter):\n",
    "        self.V = {}\n",
    "        self.Q = {}\n",
    "        self.env = env\n",
    "        self.state_space = [(i,j,k) for i in range(32) for j in range(11) for k in range(2)]\n",
    "        self.pi = {(state): self.initial_policy(state) for state in self.state_space}\n",
    "\n",
    "        self.train(num_iter)\n",
    "\n",
    "    def initial_policy(self, state):\n",
    "        \n",
    "        if state[0] == 20 or state[0] == 21:\n",
    "            return 0\n",
    "        else:\n",
    "            return 1\n",
    "\n",
    "    def generate_episode(self):\n",
    "        episode = []\n",
    "        state,_ = self.env.reset()\n",
    "        i = 0\n",
    "        while True:\n",
    "            # Exploring starts\n",
    "            if i == 0:\n",
    "                action = self.env.action_space.sample()\n",
    "            else:\n",
    "                action = self.pi[state]\n",
    "            next_state, reward, terminated, _, _ = self.env.step(action)\n",
    "            episode.append((state, action, reward))\n",
    "            state = next_state\n",
    "            if terminated:\n",
    "                break\n",
    "            i = i + 1\n",
    "        return episode\n",
    "    \n",
    "\n",
    "    def mc_prediction_state(self, num_episodes):\n",
    "        returns = {}\n",
    "        for _ in tqdm(range(num_episodes)):\n",
    "            episode = self.generate_episode()\n",
    "            G = 0\n",
    "            for i, (state, _, reward) in enumerate(episode[::-1]):\n",
    "                G = reward + G\n",
    "                if state not in [x[0] for x in episode[::-1][len(episode)-i:]]:\n",
    "                    if state not in self.V:\n",
    "                        returns[state] = [G]\n",
    "                    else:\n",
    "                        returns[state].append(G)\n",
    "                    self.V[state] = sum(returns[state])/len(returns[state])\n",
    "    \n",
    "    def train(self,num_episodes):\n",
    "        returns = {}\n",
    "        for _ in tqdm(range(num_episodes)):\n",
    "            episode = self.generate_episode()\n",
    "            G = 0\n",
    "            for i, (state, action, reward) in enumerate(episode[::-1]):\n",
    "                G =  G + reward\n",
    "                if (state, action) not in [(x[0], x[1]) for x in episode[::-1][len(episode)-i:]]:\n",
    "                    if (state, action) not in returns:\n",
    "                        returns[(state, action)] = [G]\n",
    "                    else:\n",
    "                        returns[(state, action)].append(G)\n",
    "                    self.Q[(state, action)] = sum(returns[(state, action)])/len(returns[(state, action)])\n",
    "                    q_values = [self.Q.get((state, a), 0) for a in range(2)]\n",
    "                    self.pi[state] = np.argmax(q_values)\n",
    "    \n",
    "    def evaluate(self,num_steps):\n",
    "        rewards = []\n",
    "        for _ in range(num_steps):\n",
    "            state,_ = self.env.reset()\n",
    "            terminated = False\n",
    "            reward = 0\n",
    "            while not terminated:\n",
    "                action = self.pi[state]\n",
    "                next_state, r, terminated, _, _ = self.env.step(action)\n",
    "                reward += r\n",
    "                state = next_state\n",
    "            rewards.append(reward)\n",
    "        return np.sum(rewards)\n",
    "\n",
    "        "
   ]
  },
  {
   "cell_type": "code",
   "execution_count": 82,
   "metadata": {},
   "outputs": [],
   "source": [
    "class RandomAgent:\n",
    "    \n",
    "        def __init__(self,env):\n",
    "            self.env = env\n",
    "    \n",
    "        def evaluate(self,num_steps):\n",
    "            rewards = []\n",
    "            for _ in range(num_steps):\n",
    "                state,_ = self.env.reset()\n",
    "                terminated = False\n",
    "                reward = 0\n",
    "                while not terminated:\n",
    "                    action = self.env.action_space.sample()\n",
    "                    next_state, r, terminated, _, _ = self.env.step(action)\n",
    "                    reward += r\n",
    "                    state = next_state\n",
    "                rewards.append(reward)\n",
    "            return np.sum(rewards)"
   ]
  },
  {
   "cell_type": "code",
   "execution_count": 83,
   "metadata": {},
   "outputs": [
    {
     "name": "stderr",
     "output_type": "stream",
     "text": [
      "  0%|          | 0/1000000 [00:00<?, ?it/s]"
     ]
    },
    {
     "name": "stderr",
     "output_type": "stream",
     "text": [
      "100%|██████████| 1000000/1000000 [05:33<00:00, 2998.11it/s]\n"
     ]
    },
    {
     "name": "stdout",
     "output_type": "stream",
     "text": [
      "Random Agent:  -180.0\n",
      "MC Agent:  -44.0\n"
     ]
    }
   ],
   "source": [
    "env = gym.make('Blackjack-v1')\n",
    "mc_agent = BlackJackAgent(env,1000000)\n",
    "random_agent = RandomAgent(env)\n",
    "\n",
    "print(\"Random Agent: \", random_agent.evaluate(500))\n",
    "print(\"MC Agent: \", mc_agent.evaluate(500))\n"
   ]
  },
  {
   "cell_type": "code",
   "execution_count": 91,
   "metadata": {},
   "outputs": [
    {
     "name": "stdout",
     "output_type": "stream",
     "text": [
      "Random Agent:  -219.0\n",
      "MC Agent:  -53.0\n"
     ]
    }
   ],
   "source": [
    "print(\"Random Agent: \", random_agent.evaluate(500))\n",
    "print(\"MC Agent: \", mc_agent.evaluate(500))"
   ]
  },
  {
   "cell_type": "code",
   "execution_count": null,
   "metadata": {},
   "outputs": [],
   "source": []
  }
 ],
 "metadata": {
  "kernelspec": {
   "display_name": "rl_env",
   "language": "python",
   "name": "python3"
  },
  "language_info": {
   "codemirror_mode": {
    "name": "ipython",
    "version": 3
   },
   "file_extension": ".py",
   "mimetype": "text/x-python",
   "name": "python",
   "nbconvert_exporter": "python",
   "pygments_lexer": "ipython3",
   "version": "3.12.7"
  }
 },
 "nbformat": 4,
 "nbformat_minor": 2
}
