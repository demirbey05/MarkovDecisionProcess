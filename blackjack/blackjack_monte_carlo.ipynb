{
 "cells": [
  {
   "cell_type": "code",
   "execution_count": 52,
   "metadata": {},
   "outputs": [],
   "source": [
    "import gymnasium as gym\n",
    "from tqdm import tqdm\n",
    "import numpy as np\n",
    "env = gym.make('Blackjack-v1', natural=False, sab=True)"
   ]
  },
  {
   "cell_type": "code",
   "execution_count": 53,
   "metadata": {},
   "outputs": [],
   "source": [
    "class BlackJackAgent:\n",
    "\n",
    "    def __init__(self,env):\n",
    "        self.V = {}\n",
    "        self.env = env\n",
    "\n",
    "    def greedy_policy(self, state):\n",
    "        if state[0] == 20 or state[0] == 21:\n",
    "            return 0\n",
    "        else:\n",
    "            return 1\n",
    "\n",
    "    def generate_episode(self):\n",
    "        episode = []\n",
    "        state,_ = self.env.reset()\n",
    "        while True:\n",
    "            action = self.greedy_policy(state)\n",
    "            next_state, reward, terminated, _, _ = env.step(action)\n",
    "            episode.append((state, action, reward))\n",
    "            state = next_state\n",
    "            if terminated:\n",
    "                break\n",
    "        return episode\n",
    "    \n",
    "\n",
    "    def mc_prediction(self, num_episodes):\n",
    "        returns = {}\n",
    "        for _ in tqdm(range(num_episodes)):\n",
    "            episode = self.generate_episode()\n",
    "            G = 0\n",
    "            for i, (state, _, reward) in enumerate(episode[::-1]):\n",
    "                G = reward + G\n",
    "                if state not in [x[0] for x in episode[::-1][len(episode)-i:]]:\n",
    "                    if state not in self.V:\n",
    "                        returns[state] = [G]\n",
    "                    else:\n",
    "                        returns[state].append(G)\n",
    "                    self.V[state] = sum(returns[state])/len(returns[state])\n",
    "        "
   ]
  },
  {
   "cell_type": "code",
   "execution_count": null,
   "metadata": {},
   "outputs": [],
   "source": []
  }
 ],
 "metadata": {
  "kernelspec": {
   "display_name": "rl_env",
   "language": "python",
   "name": "python3"
  },
  "language_info": {
   "codemirror_mode": {
    "name": "ipython",
    "version": 3
   },
   "file_extension": ".py",
   "mimetype": "text/x-python",
   "name": "python",
   "nbconvert_exporter": "python",
   "pygments_lexer": "ipython3",
   "version": "3.12.7"
  }
 },
 "nbformat": 4,
 "nbformat_minor": 2
}
