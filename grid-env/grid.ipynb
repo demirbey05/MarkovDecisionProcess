{
 "cells": [
  {
   "cell_type": "markdown",
   "id": "1701b5a7-bf8e-4a92-b1b8-93a8b4a3ada7",
   "metadata": {},
   "source": [
    "# Grid Environment\n"
   ]
  },
  {
   "cell_type": "markdown",
   "id": "25c14be4-7574-4f53-8f1f-165e9617b737",
   "metadata": {},
   "source": [
    "![alt text](assets/image.png)"
   ]
  },
  {
   "cell_type": "code",
   "execution_count": 3,
   "id": "d94800ff-a1c1-4915-a587-d4685a6b46b2",
   "metadata": {
    "tags": []
   },
   "outputs": [],
   "source": [
    "from mdp import MDP\n",
    "import torch"
   ]
  },
  {
   "cell_type": "markdown",
   "id": "299468c7-6f04-4993-bc30-55030cd2937c",
   "metadata": {},
   "source": [
    "# Creating an environment "
   ]
  },
  {
   "cell_type": "code",
   "execution_count": 13,
   "id": "aed45c7f-2ff6-4e17-9599-97b693eef4b3",
   "metadata": {
    "tags": []
   },
   "outputs": [],
   "source": [
    "# up = 1, down = 2, left = 3, right = 4 \n",
    "# Original array\n",
    "data = [\n",
    "    [0, \"u\", 0, 0, 1], [0, \"d\", 0, 0, 1], [0, \"r\", 0, 0, 1], [0, \"l\", 0, 0, 1],\n",
    "    [1, \"u\", 1, -1, 1], [1, \"d\", 5, -1, 1], [1, \"r\", 2, -1, 1], [1, \"l\", 0, -1, 1],\n",
    "    [2, \"u\", 2, -1, 1], [2, \"d\", 6, -1, 1], [2, \"r\", 3, -1, 1], [2, \"l\", 1, -1, 1],\n",
    "    [3, \"u\", 3, -1, 1], [3, \"d\", 7, -1, 1], [3, \"r\", 3, -1, 1], [3, \"l\", 2, -1, 1],\n",
    "    [4, \"u\", 0, -1, 1], [4, \"d\", 8, -1, 1], [4, \"r\", 5, -1, 1], [4, \"l\", 4, -1, 1],\n",
    "    [5, \"u\", 1, -1, 1], [5, \"d\", 9, -1, 1], [5, \"r\", 6, -1, 1], [5, \"l\", 4, -1, 1],\n",
    "    [6, \"u\", 2, -1, 1], [6, \"d\", 10, -1, 1], [6, \"r\", 7, -1, 1], [6, \"l\", 5, -1, 1],\n",
    "    [7, \"u\", 3, -1, 1], [7, \"d\", 11, -1, 1], [7, \"r\", 7, -1, 1], [7, \"l\", 6, -1, 1],\n",
    "    [8, \"u\", 4, -1, 1], [8, \"d\", 12, -1, 1], [8, \"r\", 9, -1, 1], [8, \"l\", 8, -1, 1],\n",
    "    [9, \"u\", 5, -1, 1], [9, \"d\", 13, -1, 1], [9, \"r\", 10, -1, 1], [9, \"l\", 8, -1, 1],\n",
    "    [10, \"u\", 6, -1, 1], [10, \"d\", 14, -1, 1], [10, \"r\", 11, -1, 1], [10, \"l\", 9, -1, 1],\n",
    "    [11, \"u\", 7, -1, 1], [11, \"d\", 0, -1, 1], [11, \"r\", 11, -1, 1], [11, \"l\", 10, -1, 1],\n",
    "    [12, \"u\", 8, -1, 1], [12, \"d\", 12, -1, 1], [12, \"r\", 13, -1, 1], [12, \"l\", 12, -1, 1],\n",
    "    [13, \"u\", 9, -1, 1], [13, \"d\", 13, -1, 1], [13, \"r\", 14, -1, 1], [13, \"l\", 12, -1, 1],\n",
    "    [14, \"u\", 10, -1, 1], [14, \"d\", 14, -1, 1], [14, \"r\", 0, -1, 1], [14, \"l\", 13, -1, 1],\n",
    "    [15, \"u\", 15, 0, 1], [15, \"d\", 15, 0, 1], [15, \"r\", 15, 0, 1], [15, \"l\", 15, 0, 1]\n",
    "]\n",
    "\n",
    "# Mapping for directions\n",
    "direction_map = {\"u\": 1, \"d\": 2, \"l\": 3, \"r\": 4}\n",
    "\n",
    "# Convert the data\n",
    "converted_data = [[item[0], direction_map[item[1]], item[2], item[3], item[4]] for item in data]\n",
    "\n",
    "# Convert to PyTorch tensor\n",
    "transition_probs= torch.tensor(converted_data, dtype=torch.int64)\n",
    "action_spaces = [i for i in range(1,5)]\n",
    "state_spaces = [i for i in range (0,16)]\n",
    "\n",
    "\n",
    "grid_env = MDP(state_spaces,action_spaces,transition_probs)"
   ]
  },
  {
   "cell_type": "code",
   "execution_count": null,
   "id": "1ab31c0a-5a09-43ad-9c88-1f7a75c8bce9",
   "metadata": {},
   "outputs": [],
   "source": []
  }
 ],
 "metadata": {
  "kernelspec": {
   "display_name": "Python 3 (ipykernel)",
   "language": "python",
   "name": "python3"
  },
  "language_info": {
   "codemirror_mode": {
    "name": "ipython",
    "version": 3
   },
   "file_extension": ".py",
   "mimetype": "text/x-python",
   "name": "python",
   "nbconvert_exporter": "python",
   "pygments_lexer": "ipython3",
   "version": "3.10.8"
  }
 },
 "nbformat": 4,
 "nbformat_minor": 5
}
